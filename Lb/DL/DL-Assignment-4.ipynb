{
 "cells": [
  {
   "cell_type": "code",
   "execution_count": 1,
   "metadata": {
    "executionInfo": {
     "elapsed": 2088,
     "status": "ok",
     "timestamp": 1684646900075,
     "user": {
      "displayName": "saee kulkarni",
      "userId": "13833151793041151926"
     },
     "user_tz": -330
    },
    "id": "8vDNnZ2P2R6Q"
   },
   "outputs": [],
   "source": [
    "import numpy as np\n",
    "import matplotlib.pyplot as plt\n",
    "import pandas as pd\n",
    "from sklearn.preprocessing import MinMaxScaler"
   ]
  },
  {
   "cell_type": "code",
   "execution_count": 2,
   "metadata": {
    "colab": {
     "base_uri": "https://localhost:8080/",
     "height": 206
    },
    "executionInfo": {
     "elapsed": 856,
     "status": "ok",
     "timestamp": 1684646903121,
     "user": {
      "displayName": "saee kulkarni",
      "userId": "13833151793041151926"
     },
     "user_tz": -330
    },
    "id": "gg3NQ7lX2yda",
    "outputId": "f299f6c8-4e42-47b5-cb03-7db031d4e7a5"
   },
   "outputs": [
    {
     "data": {
      "text/html": [
       "<div>\n",
       "<style scoped>\n",
       "    .dataframe tbody tr th:only-of-type {\n",
       "        vertical-align: middle;\n",
       "    }\n",
       "\n",
       "    .dataframe tbody tr th {\n",
       "        vertical-align: top;\n",
       "    }\n",
       "\n",
       "    .dataframe thead th {\n",
       "        text-align: right;\n",
       "    }\n",
       "</style>\n",
       "<table border=\"1\" class=\"dataframe\">\n",
       "  <thead>\n",
       "    <tr style=\"text-align: right;\">\n",
       "      <th></th>\n",
       "      <th>Date</th>\n",
       "      <th>High</th>\n",
       "      <th>Low</th>\n",
       "      <th>Open</th>\n",
       "      <th>Close</th>\n",
       "      <th>Volume</th>\n",
       "      <th>Adj Close</th>\n",
       "    </tr>\n",
       "  </thead>\n",
       "  <tbody>\n",
       "    <tr>\n",
       "      <th>4312</th>\n",
       "      <td>2021-10-05</td>\n",
       "      <td>2747.239990</td>\n",
       "      <td>2680.000000</td>\n",
       "      <td>2680.000000</td>\n",
       "      <td>2723.540039</td>\n",
       "      <td>1206300.0</td>\n",
       "      <td>2723.540039</td>\n",
       "    </tr>\n",
       "    <tr>\n",
       "      <th>4313</th>\n",
       "      <td>2021-10-06</td>\n",
       "      <td>2757.040039</td>\n",
       "      <td>2689.729980</td>\n",
       "      <td>2692.510010</td>\n",
       "      <td>2747.080078</td>\n",
       "      <td>988200.0</td>\n",
       "      <td>2747.080078</td>\n",
       "    </tr>\n",
       "    <tr>\n",
       "      <th>4314</th>\n",
       "      <td>2021-10-07</td>\n",
       "      <td>2803.089111</td>\n",
       "      <td>2771.260010</td>\n",
       "      <td>2777.260010</td>\n",
       "      <td>2783.709961</td>\n",
       "      <td>912500.0</td>\n",
       "      <td>2783.709961</td>\n",
       "    </tr>\n",
       "    <tr>\n",
       "      <th>4315</th>\n",
       "      <td>2021-10-08</td>\n",
       "      <td>2806.340088</td>\n",
       "      <td>2788.586914</td>\n",
       "      <td>2798.120117</td>\n",
       "      <td>2801.120117</td>\n",
       "      <td>946200.0</td>\n",
       "      <td>2801.120117</td>\n",
       "    </tr>\n",
       "    <tr>\n",
       "      <th>4316</th>\n",
       "      <td>2021-10-11</td>\n",
       "      <td>2815.272949</td>\n",
       "      <td>2776.129883</td>\n",
       "      <td>2796.000000</td>\n",
       "      <td>2776.949951</td>\n",
       "      <td>828700.0</td>\n",
       "      <td>2776.949951</td>\n",
       "    </tr>\n",
       "  </tbody>\n",
       "</table>\n",
       "</div>"
      ],
      "text/plain": [
       "            Date         High          Low         Open        Close  \\\n",
       "4312  2021-10-05  2747.239990  2680.000000  2680.000000  2723.540039   \n",
       "4313  2021-10-06  2757.040039  2689.729980  2692.510010  2747.080078   \n",
       "4314  2021-10-07  2803.089111  2771.260010  2777.260010  2783.709961   \n",
       "4315  2021-10-08  2806.340088  2788.586914  2798.120117  2801.120117   \n",
       "4316  2021-10-11  2815.272949  2776.129883  2796.000000  2776.949951   \n",
       "\n",
       "         Volume    Adj Close  \n",
       "4312  1206300.0  2723.540039  \n",
       "4313   988200.0  2747.080078  \n",
       "4314   912500.0  2783.709961  \n",
       "4315   946200.0  2801.120117  \n",
       "4316   828700.0  2776.949951  "
      ]
     },
     "execution_count": 2,
     "metadata": {},
     "output_type": "execute_result"
    }
   ],
   "source": [
    "data = pd.read_csv('google.csv', date_parser = True)\n",
    "data.tail()"
   ]
  },
  {
   "cell_type": "code",
   "execution_count": 3,
   "metadata": {
    "executionInfo": {
     "elapsed": 2,
     "status": "ok",
     "timestamp": 1684646905517,
     "user": {
      "displayName": "saee kulkarni",
      "userId": "13833151793041151926"
     },
     "user_tz": -330
    },
    "id": "r0Y49f5l3h5V"
   },
   "outputs": [],
   "source": [
    "data_training = data[data['Date']<'2019-01-01'].copy()\n",
    "data_test = data[data['Date']>='2019-01-01'].copy()"
   ]
  },
  {
   "cell_type": "code",
   "execution_count": 4,
   "metadata": {
    "executionInfo": {
     "elapsed": 536,
     "status": "ok",
     "timestamp": 1684646908464,
     "user": {
      "displayName": "saee kulkarni",
      "userId": "13833151793041151926"
     },
     "user_tz": -330
    },
    "id": "rZ4yGSx33le-"
   },
   "outputs": [],
   "source": [
    "data_training = data_training.drop(['Date', 'Adj Close'], axis = 1)"
   ]
  },
  {
   "cell_type": "code",
   "execution_count": 5,
   "metadata": {
    "colab": {
     "base_uri": "https://localhost:8080/"
    },
    "executionInfo": {
     "elapsed": 3,
     "status": "ok",
     "timestamp": 1684646910815,
     "user": {
      "displayName": "saee kulkarni",
      "userId": "13833151793041151926"
     },
     "user_tz": -330
    },
    "id": "ksF1tHJQ3oDa",
    "outputId": "dc5fcac7-08a6-42a5-a283-21d901a46b4b"
   },
   "outputs": [
    {
     "data": {
      "text/plain": [
       "array([[9.44784778e-04, 0.00000000e+00, 3.30297476e-04, 1.34907815e-04,\n",
       "        5.43577158e-01],\n",
       "       [2.98909905e-03, 1.88269070e-03, 7.42148188e-04, 3.39307571e-03,\n",
       "        2.77885876e-01],\n",
       "       [4.78092870e-03, 5.42828275e-03, 4.71386823e-03, 3.83867253e-03,\n",
       "        2.22151352e-01],\n",
       "       ...,\n",
       "       [8.11970140e-01, 7.90196475e-01, 7.92197108e-01, 8.15799919e-01,\n",
       "        2.54669035e-02],\n",
       "       [8.21510648e-01, 8.20249255e-01, 8.18777193e-01, 8.10219301e-01,\n",
       "        1.70461017e-02],\n",
       "       [8.19172450e-01, 8.12332341e-01, 8.19874096e-01, 8.09012935e-01,\n",
       "        1.79972283e-02]])"
      ]
     },
     "execution_count": 5,
     "metadata": {},
     "output_type": "execute_result"
    }
   ],
   "source": [
    "scaler = MinMaxScaler()\n",
    "data_training = scaler.fit_transform(data_training)\n",
    "data_training"
   ]
  },
  {
   "cell_type": "code",
   "execution_count": 6,
   "metadata": {
    "colab": {
     "base_uri": "https://localhost:8080/"
    },
    "executionInfo": {
     "elapsed": 3,
     "status": "ok",
     "timestamp": 1684646912879,
     "user": {
      "displayName": "saee kulkarni",
      "userId": "13833151793041151926"
     },
     "user_tz": -330
    },
    "id": "rP7vjeXv3qjF",
    "outputId": "f34e7ab9-0254-4532-dc8f-59b009165890"
   },
   "outputs": [
    {
     "data": {
      "text/plain": [
       "array([[9.44784778e-04, 0.00000000e+00, 3.30297476e-04, 1.34907815e-04,\n",
       "        5.43577158e-01],\n",
       "       [2.98909905e-03, 1.88269070e-03, 7.42148188e-04, 3.39307571e-03,\n",
       "        2.77885876e-01],\n",
       "       [4.78092870e-03, 5.42828275e-03, 4.71386823e-03, 3.83867253e-03,\n",
       "        2.22151352e-01],\n",
       "       [4.01532907e-03, 3.15578588e-03, 4.91367615e-03, 1.98679174e-03,\n",
       "        1.85522815e-01],\n",
       "       [2.54928663e-03, 3.28434091e-03, 2.35285583e-03, 2.44873979e-03,\n",
       "        1.11764685e-01],\n",
       "       [2.52892532e-03, 3.60779742e-03, 2.34877754e-03, 3.22955403e-03,\n",
       "        8.62762390e-02],\n",
       "       [2.80177125e-03, 4.03492745e-03, 3.63326599e-03, 2.51005925e-03,\n",
       "        7.55253226e-02],\n",
       "       [1.52712949e-03, 2.50886967e-03, 2.48334225e-03, 8.17608416e-04,\n",
       "        6.31690501e-02],\n",
       "       [8.02252484e-04, 2.57107505e-03, 1.26817530e-03, 9.64778870e-04,\n",
       "        5.97735163e-02],\n",
       "       [5.00899472e-04, 1.53849694e-03, 1.43128490e-03, 9.81136361e-05,\n",
       "        1.11151736e-01]])"
      ]
     },
     "execution_count": 6,
     "metadata": {},
     "output_type": "execute_result"
    }
   ],
   "source": [
    "data_training[0:10]"
   ]
  },
  {
   "cell_type": "code",
   "execution_count": 7,
   "metadata": {
    "executionInfo": {
     "elapsed": 2,
     "status": "ok",
     "timestamp": 1684646914824,
     "user": {
      "displayName": "saee kulkarni",
      "userId": "13833151793041151926"
     },
     "user_tz": -330
    },
    "id": "yExHbPqU3tcf"
   },
   "outputs": [],
   "source": [
    "X_train = []\n",
    "y_train = []"
   ]
  },
  {
   "cell_type": "code",
   "execution_count": 8,
   "metadata": {
    "executionInfo": {
     "elapsed": 2,
     "status": "ok",
     "timestamp": 1684646916966,
     "user": {
      "displayName": "saee kulkarni",
      "userId": "13833151793041151926"
     },
     "user_tz": -330
    },
    "id": "AySuPkiO3w17"
   },
   "outputs": [],
   "source": [
    "for i in range(60, data_training.shape[0]):\n",
    "    X_train.append(data_training[i-60:i])\n",
    "    y_train.append(data_training[i, 0])"
   ]
  },
  {
   "cell_type": "code",
   "execution_count": 9,
   "metadata": {
    "executionInfo": {
     "elapsed": 1,
     "status": "ok",
     "timestamp": 1684646919054,
     "user": {
      "displayName": "saee kulkarni",
      "userId": "13833151793041151926"
     },
     "user_tz": -330
    },
    "id": "8Si-N07W3zKv"
   },
   "outputs": [],
   "source": [
    "X_train, y_train = np.array(X_train), np.array(y_train)"
   ]
  },
  {
   "cell_type": "code",
   "execution_count": 10,
   "metadata": {
    "colab": {
     "base_uri": "https://localhost:8080/"
    },
    "executionInfo": {
     "elapsed": 2,
     "status": "ok",
     "timestamp": 1684646921038,
     "user": {
      "displayName": "saee kulkarni",
      "userId": "13833151793041151926"
     },
     "user_tz": -330
    },
    "id": "BS7CUEHE31uU",
    "outputId": "bcd9d120-e7d7-41e1-8aa1-8db8b22e3d73"
   },
   "outputs": [
    {
     "data": {
      "text/plain": [
       "(3557, 60, 5)"
      ]
     },
     "execution_count": 10,
     "metadata": {},
     "output_type": "execute_result"
    }
   ],
   "source": [
    "X_train.shape"
   ]
  },
  {
   "cell_type": "code",
   "execution_count": 11,
   "metadata": {
    "executionInfo": {
     "elapsed": 4100,
     "status": "ok",
     "timestamp": 1684646927105,
     "user": {
      "displayName": "saee kulkarni",
      "userId": "13833151793041151926"
     },
     "user_tz": -330
    },
    "id": "RM9ZcGxH33wx"
   },
   "outputs": [
    {
     "ename": "ImportError",
     "evalue": "cannot import name 'type_spec_registry' from 'tensorflow.python.framework' (C:\\Users\\ratho\\AppData\\Roaming\\Python\\Python310\\site-packages\\tensorflow\\python\\framework\\__init__.py)",
     "output_type": "error",
     "traceback": [
      "\u001b[1;31m---------------------------------------------------------------------------\u001b[0m",
      "\u001b[1;31mImportError\u001b[0m                               Traceback (most recent call last)",
      "\u001b[1;32mc:\\Users\\ratho\\OneDrive\\Desktop\\Lb\\DL\\DL-Assignment-4.ipynb Cell 11\u001b[0m in \u001b[0;36m1\n\u001b[1;32m----> <a href='vscode-notebook-cell:/c%3A/Users/ratho/OneDrive/Desktop/Lb/DL/DL-Assignment-4.ipynb#X13sZmlsZQ%3D%3D?line=0'>1</a>\u001b[0m \u001b[39mfrom\u001b[39;00m \u001b[39mtensorflow\u001b[39;00m\u001b[39m.\u001b[39;00m\u001b[39mkeras\u001b[39;00m \u001b[39mimport\u001b[39;00m Sequential\n\u001b[0;32m      <a href='vscode-notebook-cell:/c%3A/Users/ratho/OneDrive/Desktop/Lb/DL/DL-Assignment-4.ipynb#X13sZmlsZQ%3D%3D?line=1'>2</a>\u001b[0m \u001b[39mfrom\u001b[39;00m \u001b[39mtensorflow\u001b[39;00m\u001b[39m.\u001b[39;00m\u001b[39mkeras\u001b[39;00m\u001b[39m.\u001b[39;00m\u001b[39mlayers\u001b[39;00m \u001b[39mimport\u001b[39;00m Dense, LSTM, Dropout\n",
      "File \u001b[1;32md:\\anaconda3\\lib\\site-packages\\keras\\api\\_v2\\keras\\__init__.py:12\u001b[0m\n\u001b[0;32m      3\u001b[0m \u001b[39m\"\"\"Implementation of the Keras API, the high-level API of TensorFlow.\u001b[39;00m\n\u001b[0;32m      4\u001b[0m \n\u001b[0;32m      5\u001b[0m \u001b[39mDetailed documentation and user guides are available at\u001b[39;00m\n\u001b[0;32m      6\u001b[0m \u001b[39m[keras.io](https://keras.io).\u001b[39;00m\n\u001b[0;32m      7\u001b[0m \n\u001b[0;32m      8\u001b[0m \u001b[39m\"\"\"\u001b[39;00m\n\u001b[0;32m     10\u001b[0m \u001b[39mimport\u001b[39;00m \u001b[39msys\u001b[39;00m \u001b[39mas\u001b[39;00m \u001b[39m_sys\u001b[39;00m\n\u001b[1;32m---> 12\u001b[0m \u001b[39mfrom\u001b[39;00m \u001b[39mkeras\u001b[39;00m \u001b[39mimport\u001b[39;00m __version__\n\u001b[0;32m     13\u001b[0m \u001b[39mfrom\u001b[39;00m \u001b[39mkeras\u001b[39;00m\u001b[39m.\u001b[39;00m\u001b[39mapi\u001b[39;00m\u001b[39m.\u001b[39;00m\u001b[39m_v2\u001b[39;00m\u001b[39m.\u001b[39;00m\u001b[39mkeras\u001b[39;00m \u001b[39mimport\u001b[39;00m __internal__\n\u001b[0;32m     14\u001b[0m \u001b[39mfrom\u001b[39;00m \u001b[39mkeras\u001b[39;00m\u001b[39m.\u001b[39;00m\u001b[39mapi\u001b[39;00m\u001b[39m.\u001b[39;00m\u001b[39m_v2\u001b[39;00m\u001b[39m.\u001b[39;00m\u001b[39mkeras\u001b[39;00m \u001b[39mimport\u001b[39;00m activations\n",
      "File \u001b[1;32md:\\anaconda3\\lib\\site-packages\\keras\\__init__.py:21\u001b[0m\n\u001b[0;32m     15\u001b[0m \u001b[39m\"\"\"Implementation of the Keras API, the high-level API of TensorFlow.\u001b[39;00m\n\u001b[0;32m     16\u001b[0m \n\u001b[0;32m     17\u001b[0m \u001b[39mDetailed documentation and user guides are available at\u001b[39;00m\n\u001b[0;32m     18\u001b[0m \u001b[39m[keras.io](https://keras.io).\u001b[39;00m\n\u001b[0;32m     19\u001b[0m \u001b[39m\"\"\"\u001b[39;00m\n\u001b[0;32m     20\u001b[0m \u001b[39mfrom\u001b[39;00m \u001b[39mkeras\u001b[39;00m \u001b[39mimport\u001b[39;00m distribute\n\u001b[1;32m---> 21\u001b[0m \u001b[39mfrom\u001b[39;00m \u001b[39mkeras\u001b[39;00m \u001b[39mimport\u001b[39;00m models\n\u001b[0;32m     22\u001b[0m \u001b[39mfrom\u001b[39;00m \u001b[39mkeras\u001b[39;00m\u001b[39m.\u001b[39;00m\u001b[39mengine\u001b[39;00m\u001b[39m.\u001b[39;00m\u001b[39minput_layer\u001b[39;00m \u001b[39mimport\u001b[39;00m Input\n\u001b[0;32m     23\u001b[0m \u001b[39mfrom\u001b[39;00m \u001b[39mkeras\u001b[39;00m\u001b[39m.\u001b[39;00m\u001b[39mengine\u001b[39;00m\u001b[39m.\u001b[39;00m\u001b[39msequential\u001b[39;00m \u001b[39mimport\u001b[39;00m Sequential\n",
      "File \u001b[1;32md:\\anaconda3\\lib\\site-packages\\keras\\models\\__init__.py:18\u001b[0m\n\u001b[0;32m      1\u001b[0m \u001b[39m# Copyright 2022 The TensorFlow Authors. All Rights Reserved.\u001b[39;00m\n\u001b[0;32m      2\u001b[0m \u001b[39m#\u001b[39;00m\n\u001b[0;32m      3\u001b[0m \u001b[39m# Licensed under the Apache License, Version 2.0 (the \"License\");\u001b[39;00m\n\u001b[1;32m   (...)\u001b[0m\n\u001b[0;32m     13\u001b[0m \u001b[39m# limitations under the License.\u001b[39;00m\n\u001b[0;32m     14\u001b[0m \u001b[39m# ==============================================================================\u001b[39;00m\n\u001b[0;32m     15\u001b[0m \u001b[39m\"\"\"Keras models API.\"\"\"\u001b[39;00m\n\u001b[1;32m---> 18\u001b[0m \u001b[39mfrom\u001b[39;00m \u001b[39mkeras\u001b[39;00m\u001b[39m.\u001b[39;00m\u001b[39mengine\u001b[39;00m\u001b[39m.\u001b[39;00m\u001b[39mfunctional\u001b[39;00m \u001b[39mimport\u001b[39;00m Functional\n\u001b[0;32m     19\u001b[0m \u001b[39mfrom\u001b[39;00m \u001b[39mkeras\u001b[39;00m\u001b[39m.\u001b[39;00m\u001b[39mengine\u001b[39;00m\u001b[39m.\u001b[39;00m\u001b[39msequential\u001b[39;00m \u001b[39mimport\u001b[39;00m Sequential\n\u001b[0;32m     20\u001b[0m \u001b[39mfrom\u001b[39;00m \u001b[39mkeras\u001b[39;00m\u001b[39m.\u001b[39;00m\u001b[39mengine\u001b[39;00m\u001b[39m.\u001b[39;00m\u001b[39mtraining\u001b[39;00m \u001b[39mimport\u001b[39;00m Model\n",
      "File \u001b[1;32md:\\anaconda3\\lib\\site-packages\\keras\\engine\\functional.py:26\u001b[0m\n\u001b[0;32m     22\u001b[0m \u001b[39mimport\u001b[39;00m \u001b[39mwarnings\u001b[39;00m\n\u001b[0;32m     24\u001b[0m \u001b[39mimport\u001b[39;00m \u001b[39mtensorflow\u001b[39;00m\u001b[39m.\u001b[39;00m\u001b[39mcompat\u001b[39;00m\u001b[39m.\u001b[39;00m\u001b[39mv2\u001b[39;00m \u001b[39mas\u001b[39;00m \u001b[39mtf\u001b[39;00m\n\u001b[1;32m---> 26\u001b[0m \u001b[39mfrom\u001b[39;00m \u001b[39mkeras\u001b[39;00m \u001b[39mimport\u001b[39;00m backend\n\u001b[0;32m     27\u001b[0m \u001b[39mfrom\u001b[39;00m \u001b[39mkeras\u001b[39;00m\u001b[39m.\u001b[39;00m\u001b[39mdtensor\u001b[39;00m \u001b[39mimport\u001b[39;00m layout_map \u001b[39mas\u001b[39;00m layout_map_lib\n\u001b[0;32m     28\u001b[0m \u001b[39mfrom\u001b[39;00m \u001b[39mkeras\u001b[39;00m\u001b[39m.\u001b[39;00m\u001b[39mengine\u001b[39;00m \u001b[39mimport\u001b[39;00m base_layer\n",
      "File \u001b[1;32md:\\anaconda3\\lib\\site-packages\\keras\\backend.py:35\u001b[0m\n\u001b[0;32m     33\u001b[0m \u001b[39mfrom\u001b[39;00m \u001b[39mkeras\u001b[39;00m\u001b[39m.\u001b[39;00m\u001b[39mdistribute\u001b[39;00m \u001b[39mimport\u001b[39;00m distribute_coordinator_utils \u001b[39mas\u001b[39;00m dc\n\u001b[0;32m     34\u001b[0m \u001b[39mfrom\u001b[39;00m \u001b[39mkeras\u001b[39;00m\u001b[39m.\u001b[39;00m\u001b[39mdtensor\u001b[39;00m \u001b[39mimport\u001b[39;00m dtensor_api \u001b[39mas\u001b[39;00m dtensor\n\u001b[1;32m---> 35\u001b[0m \u001b[39mfrom\u001b[39;00m \u001b[39mkeras\u001b[39;00m\u001b[39m.\u001b[39;00m\u001b[39mengine\u001b[39;00m \u001b[39mimport\u001b[39;00m keras_tensor\n\u001b[0;32m     36\u001b[0m \u001b[39mfrom\u001b[39;00m \u001b[39mkeras\u001b[39;00m\u001b[39m.\u001b[39;00m\u001b[39mutils\u001b[39;00m \u001b[39mimport\u001b[39;00m control_flow_util\n\u001b[0;32m     37\u001b[0m \u001b[39mfrom\u001b[39;00m \u001b[39mkeras\u001b[39;00m\u001b[39m.\u001b[39;00m\u001b[39mutils\u001b[39;00m \u001b[39mimport\u001b[39;00m object_identity\n",
      "File \u001b[1;32md:\\anaconda3\\lib\\site-packages\\keras\\engine\\keras_tensor.py:19\u001b[0m\n\u001b[0;32m     15\u001b[0m \u001b[39m\"\"\"Keras Input Tensor used to track functional API Topology.\"\"\"\u001b[39;00m\n\u001b[0;32m     17\u001b[0m \u001b[39mimport\u001b[39;00m \u001b[39mtensorflow\u001b[39;00m\u001b[39m.\u001b[39;00m\u001b[39mcompat\u001b[39;00m\u001b[39m.\u001b[39;00m\u001b[39mv2\u001b[39;00m \u001b[39mas\u001b[39;00m \u001b[39mtf\u001b[39;00m\n\u001b[1;32m---> 19\u001b[0m \u001b[39mfrom\u001b[39;00m \u001b[39mkeras\u001b[39;00m\u001b[39m.\u001b[39;00m\u001b[39mutils\u001b[39;00m \u001b[39mimport\u001b[39;00m object_identity\n\u001b[0;32m     21\u001b[0m \u001b[39m# isort: off\u001b[39;00m\n\u001b[0;32m     22\u001b[0m \u001b[39mfrom\u001b[39;00m \u001b[39mtensorflow\u001b[39;00m\u001b[39m.\u001b[39;00m\u001b[39mpython\u001b[39;00m\u001b[39m.\u001b[39;00m\u001b[39mdata\u001b[39;00m\u001b[39m.\u001b[39;00m\u001b[39mutil\u001b[39;00m \u001b[39mimport\u001b[39;00m structure\n",
      "File \u001b[1;32md:\\anaconda3\\lib\\site-packages\\keras\\utils\\__init__.py:53\u001b[0m\n\u001b[0;32m     50\u001b[0m \u001b[39mfrom\u001b[39;00m \u001b[39mkeras\u001b[39;00m\u001b[39m.\u001b[39;00m\u001b[39mutils\u001b[39;00m\u001b[39m.\u001b[39;00m\u001b[39mdata_utils\u001b[39;00m \u001b[39mimport\u001b[39;00m get_file\n\u001b[0;32m     52\u001b[0m \u001b[39m# Preprocessing utils\u001b[39;00m\n\u001b[1;32m---> 53\u001b[0m \u001b[39mfrom\u001b[39;00m \u001b[39mkeras\u001b[39;00m\u001b[39m.\u001b[39;00m\u001b[39mutils\u001b[39;00m\u001b[39m.\u001b[39;00m\u001b[39mfeature_space\u001b[39;00m \u001b[39mimport\u001b[39;00m FeatureSpace\n\u001b[0;32m     55\u001b[0m \u001b[39m# Internal\u001b[39;00m\n\u001b[0;32m     56\u001b[0m \u001b[39mfrom\u001b[39;00m \u001b[39mkeras\u001b[39;00m\u001b[39m.\u001b[39;00m\u001b[39mutils\u001b[39;00m\u001b[39m.\u001b[39;00m\u001b[39mlayer_utils\u001b[39;00m \u001b[39mimport\u001b[39;00m get_source_inputs\n",
      "File \u001b[1;32md:\\anaconda3\\lib\\site-packages\\keras\\utils\\feature_space.py:20\u001b[0m\n\u001b[0;32m     17\u001b[0m \u001b[39mimport\u001b[39;00m \u001b[39mtensorflow\u001b[39;00m\u001b[39m.\u001b[39;00m\u001b[39mcompat\u001b[39;00m\u001b[39m.\u001b[39;00m\u001b[39mv2\u001b[39;00m \u001b[39mas\u001b[39;00m \u001b[39mtf\u001b[39;00m\n\u001b[0;32m     19\u001b[0m \u001b[39mfrom\u001b[39;00m \u001b[39mkeras\u001b[39;00m \u001b[39mimport\u001b[39;00m backend\n\u001b[1;32m---> 20\u001b[0m \u001b[39mfrom\u001b[39;00m \u001b[39mkeras\u001b[39;00m\u001b[39m.\u001b[39;00m\u001b[39mengine\u001b[39;00m \u001b[39mimport\u001b[39;00m base_layer\n\u001b[0;32m     21\u001b[0m \u001b[39mfrom\u001b[39;00m \u001b[39mkeras\u001b[39;00m\u001b[39m.\u001b[39;00m\u001b[39msaving\u001b[39;00m \u001b[39mimport\u001b[39;00m saving_lib\n\u001b[0;32m     22\u001b[0m \u001b[39mfrom\u001b[39;00m \u001b[39mkeras\u001b[39;00m\u001b[39m.\u001b[39;00m\u001b[39msaving\u001b[39;00m \u001b[39mimport\u001b[39;00m serialization_lib\n",
      "File \u001b[1;32md:\\anaconda3\\lib\\site-packages\\keras\\engine\\base_layer.py:39\u001b[0m\n\u001b[0;32m     37\u001b[0m \u001b[39mfrom\u001b[39;00m \u001b[39mkeras\u001b[39;00m\u001b[39m.\u001b[39;00m\u001b[39mengine\u001b[39;00m \u001b[39mimport\u001b[39;00m input_spec\n\u001b[0;32m     38\u001b[0m \u001b[39mfrom\u001b[39;00m \u001b[39mkeras\u001b[39;00m\u001b[39m.\u001b[39;00m\u001b[39mengine\u001b[39;00m \u001b[39mimport\u001b[39;00m keras_tensor\n\u001b[1;32m---> 39\u001b[0m \u001b[39mfrom\u001b[39;00m \u001b[39mkeras\u001b[39;00m\u001b[39m.\u001b[39;00m\u001b[39mengine\u001b[39;00m \u001b[39mimport\u001b[39;00m node \u001b[39mas\u001b[39;00m node_module\n\u001b[0;32m     40\u001b[0m \u001b[39mfrom\u001b[39;00m \u001b[39mkeras\u001b[39;00m\u001b[39m.\u001b[39;00m\u001b[39mmixed_precision\u001b[39;00m \u001b[39mimport\u001b[39;00m autocast_variable\n\u001b[0;32m     41\u001b[0m \u001b[39mfrom\u001b[39;00m \u001b[39mkeras\u001b[39;00m\u001b[39m.\u001b[39;00m\u001b[39mmixed_precision\u001b[39;00m \u001b[39mimport\u001b[39;00m loss_scale_optimizer\n",
      "File \u001b[1;32md:\\anaconda3\\lib\\site-packages\\keras\\engine\\node.py:28\u001b[0m\n\u001b[0;32m     26\u001b[0m \u001b[39mfrom\u001b[39;00m \u001b[39mkeras\u001b[39;00m \u001b[39mimport\u001b[39;00m backend\n\u001b[0;32m     27\u001b[0m \u001b[39mfrom\u001b[39;00m \u001b[39mkeras\u001b[39;00m\u001b[39m.\u001b[39;00m\u001b[39mengine\u001b[39;00m \u001b[39mimport\u001b[39;00m base_layer_utils\n\u001b[1;32m---> 28\u001b[0m \u001b[39mfrom\u001b[39;00m \u001b[39mkeras\u001b[39;00m\u001b[39m.\u001b[39;00m\u001b[39msaving\u001b[39;00m\u001b[39m.\u001b[39;00m\u001b[39mlegacy\u001b[39;00m\u001b[39m.\u001b[39;00m\u001b[39msaved_model\u001b[39;00m \u001b[39mimport\u001b[39;00m json_utils\n\u001b[0;32m     29\u001b[0m \u001b[39mfrom\u001b[39;00m \u001b[39mkeras\u001b[39;00m\u001b[39m.\u001b[39;00m\u001b[39mutils\u001b[39;00m \u001b[39mimport\u001b[39;00m tf_utils\n\u001b[0;32m     31\u001b[0m _CONSTANT_VALUE \u001b[39m=\u001b[39m \u001b[39m\"\u001b[39m\u001b[39m_CONSTANT_VALUE\u001b[39m\u001b[39m\"\u001b[39m\n",
      "File \u001b[1;32md:\\anaconda3\\lib\\site-packages\\keras\\saving\\legacy\\saved_model\\json_utils.py:36\u001b[0m\n\u001b[0;32m     33\u001b[0m \u001b[39mfrom\u001b[39;00m \u001b[39mkeras\u001b[39;00m\u001b[39m.\u001b[39;00m\u001b[39msaving\u001b[39;00m\u001b[39m.\u001b[39;00m\u001b[39mlegacy\u001b[39;00m \u001b[39mimport\u001b[39;00m serialization\n\u001b[0;32m     35\u001b[0m \u001b[39m# isort: off\u001b[39;00m\n\u001b[1;32m---> 36\u001b[0m \u001b[39mfrom\u001b[39;00m \u001b[39mtensorflow\u001b[39;00m\u001b[39m.\u001b[39;00m\u001b[39mpython\u001b[39;00m\u001b[39m.\u001b[39;00m\u001b[39mframework\u001b[39;00m \u001b[39mimport\u001b[39;00m type_spec_registry\n\u001b[0;32m     38\u001b[0m _EXTENSION_TYPE_SPEC \u001b[39m=\u001b[39m \u001b[39m\"\u001b[39m\u001b[39m_EXTENSION_TYPE_SPEC\u001b[39m\u001b[39m\"\u001b[39m\n\u001b[0;32m     41\u001b[0m \u001b[39mclass\u001b[39;00m \u001b[39mEncoder\u001b[39;00m(json\u001b[39m.\u001b[39mJSONEncoder):\n",
      "\u001b[1;31mImportError\u001b[0m: cannot import name 'type_spec_registry' from 'tensorflow.python.framework' (C:\\Users\\ratho\\AppData\\Roaming\\Python\\Python310\\site-packages\\tensorflow\\python\\framework\\__init__.py)"
     ]
    }
   ],
   "source": [
    "from tensorflow.keras import Sequential\n",
    "from tensorflow.keras.layers import Dense, LSTM, Dropout"
   ]
  },
  {
   "cell_type": "code",
   "execution_count": null,
   "metadata": {
    "executionInfo": {
     "elapsed": 810,
     "status": "ok",
     "timestamp": 1684646927899,
     "user": {
      "displayName": "saee kulkarni",
      "userId": "13833151793041151926"
     },
     "user_tz": -330
    },
    "id": "7myck-0036Q9"
   },
   "outputs": [],
   "source": [
    "regressior = Sequential()\n",
    "\n",
    "regressior.add(LSTM(units = 60, activation = 'relu', return_sequences = True, input_shape = (X_train.shape[1], 5)))\n",
    "regressior.add(Dropout(0.2))\n",
    "\n",
    "regressior.add(LSTM(units = 60, activation = 'relu', return_sequences = True))\n",
    "regressior.add(Dropout(0.2))\n",
    "\n",
    "regressior.add(LSTM(units = 80, activation = 'relu', return_sequences = True))\n",
    "regressior.add(Dropout(0.2))\n",
    "\n",
    "regressior.add(LSTM(units = 120, activation = 'relu'))\n",
    "regressior.add(Dropout(0.2))\n",
    "\n",
    "regressior.add(Dense(units = 1))"
   ]
  },
  {
   "cell_type": "code",
   "execution_count": null,
   "metadata": {
    "colab": {
     "base_uri": "https://localhost:8080/"
    },
    "executionInfo": {
     "elapsed": 9,
     "status": "ok",
     "timestamp": 1684646929652,
     "user": {
      "displayName": "saee kulkarni",
      "userId": "13833151793041151926"
     },
     "user_tz": -330
    },
    "id": "xOo4M4YG39fI",
    "outputId": "fa70e685-2570-468f-8178-c2bcf3ff3987"
   },
   "outputs": [
    {
     "name": "stdout",
     "output_type": "stream",
     "text": [
      "Model: \"sequential\"\n",
      "_________________________________________________________________\n",
      " Layer (type)                Output Shape              Param #   \n",
      "=================================================================\n",
      " lstm (LSTM)                 (None, 60, 60)            15840     \n",
      "                                                                 \n",
      " dropout (Dropout)           (None, 60, 60)            0         \n",
      "                                                                 \n",
      " lstm_1 (LSTM)               (None, 60, 60)            29040     \n",
      "                                                                 \n",
      " dropout_1 (Dropout)         (None, 60, 60)            0         \n",
      "                                                                 \n",
      " lstm_2 (LSTM)               (None, 60, 80)            45120     \n",
      "                                                                 \n",
      " dropout_2 (Dropout)         (None, 60, 80)            0         \n",
      "                                                                 \n",
      " lstm_3 (LSTM)               (None, 120)               96480     \n",
      "                                                                 \n",
      " dropout_3 (Dropout)         (None, 120)               0         \n",
      "                                                                 \n",
      " dense (Dense)               (None, 1)                 121       \n",
      "                                                                 \n",
      "=================================================================\n",
      "Total params: 186,601\n",
      "Trainable params: 186,601\n",
      "Non-trainable params: 0\n",
      "_________________________________________________________________\n"
     ]
    }
   ],
   "source": [
    "regressior.summary()"
   ]
  },
  {
   "cell_type": "code",
   "execution_count": null,
   "metadata": {
    "executionInfo": {
     "elapsed": 2,
     "status": "ok",
     "timestamp": 1684646931522,
     "user": {
      "displayName": "saee kulkarni",
      "userId": "13833151793041151926"
     },
     "user_tz": -330
    },
    "id": "LgvTeJwM4BEL"
   },
   "outputs": [],
   "source": [
    "regressior.compile(optimizer='adam', loss = 'mean_squared_error')"
   ]
  },
  {
   "cell_type": "code",
   "execution_count": null,
   "metadata": {
    "colab": {
     "base_uri": "https://localhost:8080/"
    },
    "executionInfo": {
     "elapsed": 269119,
     "status": "ok",
     "timestamp": 1684647204516,
     "user": {
      "displayName": "saee kulkarni",
      "userId": "13833151793041151926"
     },
     "user_tz": -330
    },
    "id": "BnxzWAxo4Eno",
    "outputId": "fd77a737-c0f4-4db0-94e5-ddf720122a77"
   },
   "outputs": [
    {
     "name": "stdout",
     "output_type": "stream",
     "text": [
      "Epoch 1/10\n",
      "112/112 [==============================] - 16s 109ms/step - loss: 0.0106\n",
      "Epoch 2/10\n",
      "112/112 [==============================] - 10s 91ms/step - loss: 0.0020\n",
      "Epoch 3/10\n",
      "112/112 [==============================] - 11s 94ms/step - loss: 0.0019\n",
      "Epoch 4/10\n",
      "112/112 [==============================] - 10s 91ms/step - loss: 0.0018\n",
      "Epoch 5/10\n",
      "112/112 [==============================] - 10s 90ms/step - loss: 0.0018\n",
      "Epoch 6/10\n",
      "112/112 [==============================] - 10s 94ms/step - loss: 0.0016\n",
      "Epoch 7/10\n",
      "112/112 [==============================] - 11s 101ms/step - loss: 0.0017\n",
      "Epoch 8/10\n",
      "112/112 [==============================] - 10s 90ms/step - loss: 0.0014\n",
      "Epoch 9/10\n",
      "112/112 [==============================] - 10s 94ms/step - loss: 0.0013\n",
      "Epoch 10/10\n",
      "112/112 [==============================] - 11s 96ms/step - loss: 0.0013\n"
     ]
    },
    {
     "data": {
      "text/plain": [
       "<keras.callbacks.History at 0x181c0524ca0>"
      ]
     },
     "execution_count": 15,
     "metadata": {},
     "output_type": "execute_result"
    }
   ],
   "source": [
    "regressior.fit(X_train, y_train, epochs=10, batch_size=32)"
   ]
  },
  {
   "cell_type": "code",
   "execution_count": null,
   "metadata": {
    "colab": {
     "base_uri": "https://localhost:8080/",
     "height": 206
    },
    "executionInfo": {
     "elapsed": 611,
     "status": "ok",
     "timestamp": 1683440941896,
     "user": {
      "displayName": "aaditya komerwar",
      "userId": "17240943852957858863"
     },
     "user_tz": -330
    },
    "id": "ScXzYRlf4HSb",
    "outputId": "9ade8d67-df6c-4ec9-ac17-76a54a5559fc"
   },
   "outputs": [
    {
     "data": {
      "text/html": [
       "<div>\n",
       "<style scoped>\n",
       "    .dataframe tbody tr th:only-of-type {\n",
       "        vertical-align: middle;\n",
       "    }\n",
       "\n",
       "    .dataframe tbody tr th {\n",
       "        vertical-align: top;\n",
       "    }\n",
       "\n",
       "    .dataframe thead th {\n",
       "        text-align: right;\n",
       "    }\n",
       "</style>\n",
       "<table border=\"1\" class=\"dataframe\">\n",
       "  <thead>\n",
       "    <tr style=\"text-align: right;\">\n",
       "      <th></th>\n",
       "      <th>Date</th>\n",
       "      <th>High</th>\n",
       "      <th>Low</th>\n",
       "      <th>Open</th>\n",
       "      <th>Close</th>\n",
       "      <th>Volume</th>\n",
       "      <th>Adj Close</th>\n",
       "    </tr>\n",
       "  </thead>\n",
       "  <tbody>\n",
       "    <tr>\n",
       "      <th>3617</th>\n",
       "      <td>2019-01-02</td>\n",
       "      <td>1052.319946</td>\n",
       "      <td>1015.710022</td>\n",
       "      <td>1016.570007</td>\n",
       "      <td>1045.849976</td>\n",
       "      <td>1532600.0</td>\n",
       "      <td>1045.849976</td>\n",
       "    </tr>\n",
       "    <tr>\n",
       "      <th>3618</th>\n",
       "      <td>2019-01-03</td>\n",
       "      <td>1056.979980</td>\n",
       "      <td>1014.070007</td>\n",
       "      <td>1041.000000</td>\n",
       "      <td>1016.059998</td>\n",
       "      <td>1841100.0</td>\n",
       "      <td>1016.059998</td>\n",
       "    </tr>\n",
       "    <tr>\n",
       "      <th>3619</th>\n",
       "      <td>2019-01-04</td>\n",
       "      <td>1070.839966</td>\n",
       "      <td>1027.417969</td>\n",
       "      <td>1032.589966</td>\n",
       "      <td>1070.709961</td>\n",
       "      <td>2093900.0</td>\n",
       "      <td>1070.709961</td>\n",
       "    </tr>\n",
       "    <tr>\n",
       "      <th>3620</th>\n",
       "      <td>2019-01-07</td>\n",
       "      <td>1074.000000</td>\n",
       "      <td>1054.760010</td>\n",
       "      <td>1071.500000</td>\n",
       "      <td>1068.390015</td>\n",
       "      <td>1981900.0</td>\n",
       "      <td>1068.390015</td>\n",
       "    </tr>\n",
       "    <tr>\n",
       "      <th>3621</th>\n",
       "      <td>2019-01-08</td>\n",
       "      <td>1084.560059</td>\n",
       "      <td>1060.530029</td>\n",
       "      <td>1076.109985</td>\n",
       "      <td>1076.280029</td>\n",
       "      <td>1764900.0</td>\n",
       "      <td>1076.280029</td>\n",
       "    </tr>\n",
       "  </tbody>\n",
       "</table>\n",
       "</div>"
      ],
      "text/plain": [
       "            Date         High          Low         Open        Close   \n",
       "3617  2019-01-02  1052.319946  1015.710022  1016.570007  1045.849976  \\\n",
       "3618  2019-01-03  1056.979980  1014.070007  1041.000000  1016.059998   \n",
       "3619  2019-01-04  1070.839966  1027.417969  1032.589966  1070.709961   \n",
       "3620  2019-01-07  1074.000000  1054.760010  1071.500000  1068.390015   \n",
       "3621  2019-01-08  1084.560059  1060.530029  1076.109985  1076.280029   \n",
       "\n",
       "         Volume    Adj Close  \n",
       "3617  1532600.0  1045.849976  \n",
       "3618  1841100.0  1016.059998  \n",
       "3619  2093900.0  1070.709961  \n",
       "3620  1981900.0  1068.390015  \n",
       "3621  1764900.0  1076.280029  "
      ]
     },
     "execution_count": 16,
     "metadata": {},
     "output_type": "execute_result"
    }
   ],
   "source": [
    "data_test.head()"
   ]
  },
  {
   "cell_type": "code",
   "execution_count": null,
   "metadata": {
    "colab": {
     "base_uri": "https://localhost:8080/",
     "height": 1930
    },
    "executionInfo": {
     "elapsed": 400,
     "status": "ok",
     "timestamp": 1683441022377,
     "user": {
      "displayName": "aaditya komerwar",
      "userId": "17240943852957858863"
     },
     "user_tz": -330
    },
    "id": "glc4sHER4kcC",
    "outputId": "ea1f3e8f-3b4c-4558-f6f1-f4a8431655a8"
   },
   "outputs": [
    {
     "data": {
      "text/html": [
       "<div>\n",
       "<style scoped>\n",
       "    .dataframe tbody tr th:only-of-type {\n",
       "        vertical-align: middle;\n",
       "    }\n",
       "\n",
       "    .dataframe tbody tr th {\n",
       "        vertical-align: top;\n",
       "    }\n",
       "\n",
       "    .dataframe thead th {\n",
       "        text-align: right;\n",
       "    }\n",
       "</style>\n",
       "<table border=\"1\" class=\"dataframe\">\n",
       "  <thead>\n",
       "    <tr style=\"text-align: right;\">\n",
       "      <th></th>\n",
       "      <th>Date</th>\n",
       "      <th>High</th>\n",
       "      <th>Low</th>\n",
       "      <th>Open</th>\n",
       "      <th>Close</th>\n",
       "      <th>Volume</th>\n",
       "      <th>Adj Close</th>\n",
       "    </tr>\n",
       "  </thead>\n",
       "  <tbody>\n",
       "    <tr>\n",
       "      <th>4257</th>\n",
       "      <td>2021-07-19</td>\n",
       "      <td>2624.939941</td>\n",
       "      <td>2570.739990</td>\n",
       "      <td>2623.110107</td>\n",
       "      <td>2585.080078</td>\n",
       "      <td>1285500.0</td>\n",
       "      <td>2585.080078</td>\n",
       "    </tr>\n",
       "    <tr>\n",
       "      <th>4258</th>\n",
       "      <td>2021-07-20</td>\n",
       "      <td>2640.027100</td>\n",
       "      <td>2583.768066</td>\n",
       "      <td>2600.080078</td>\n",
       "      <td>2622.030029</td>\n",
       "      <td>954200.0</td>\n",
       "      <td>2622.030029</td>\n",
       "    </tr>\n",
       "    <tr>\n",
       "      <th>4259</th>\n",
       "      <td>2021-07-21</td>\n",
       "      <td>2652.344971</td>\n",
       "      <td>2612.030029</td>\n",
       "      <td>2615.739990</td>\n",
       "      <td>2652.010010</td>\n",
       "      <td>737100.0</td>\n",
       "      <td>2652.010010</td>\n",
       "    </tr>\n",
       "    <tr>\n",
       "      <th>4260</th>\n",
       "      <td>2021-07-22</td>\n",
       "      <td>2670.090088</td>\n",
       "      <td>2648.000000</td>\n",
       "      <td>2653.000000</td>\n",
       "      <td>2666.570068</td>\n",
       "      <td>680400.0</td>\n",
       "      <td>2666.570068</td>\n",
       "    </tr>\n",
       "    <tr>\n",
       "      <th>4261</th>\n",
       "      <td>2021-07-23</td>\n",
       "      <td>2776.169922</td>\n",
       "      <td>2694.010010</td>\n",
       "      <td>2705.199951</td>\n",
       "      <td>2756.320068</td>\n",
       "      <td>1318900.0</td>\n",
       "      <td>2756.320068</td>\n",
       "    </tr>\n",
       "    <tr>\n",
       "      <th>4262</th>\n",
       "      <td>2021-07-26</td>\n",
       "      <td>2794.260010</td>\n",
       "      <td>2753.020020</td>\n",
       "      <td>2765.000000</td>\n",
       "      <td>2792.889893</td>\n",
       "      <td>1152600.0</td>\n",
       "      <td>2792.889893</td>\n",
       "    </tr>\n",
       "    <tr>\n",
       "      <th>4263</th>\n",
       "      <td>2021-07-27</td>\n",
       "      <td>2800.219971</td>\n",
       "      <td>2702.000000</td>\n",
       "      <td>2800.219971</td>\n",
       "      <td>2735.929932</td>\n",
       "      <td>2108200.0</td>\n",
       "      <td>2735.929932</td>\n",
       "    </tr>\n",
       "    <tr>\n",
       "      <th>4264</th>\n",
       "      <td>2021-07-28</td>\n",
       "      <td>2793.520020</td>\n",
       "      <td>2727.000000</td>\n",
       "      <td>2771.239990</td>\n",
       "      <td>2727.629883</td>\n",
       "      <td>2734400.0</td>\n",
       "      <td>2727.629883</td>\n",
       "    </tr>\n",
       "    <tr>\n",
       "      <th>4265</th>\n",
       "      <td>2021-07-29</td>\n",
       "      <td>2743.030029</td>\n",
       "      <td>2722.760010</td>\n",
       "      <td>2727.612061</td>\n",
       "      <td>2730.810059</td>\n",
       "      <td>964200.0</td>\n",
       "      <td>2730.810059</td>\n",
       "    </tr>\n",
       "    <tr>\n",
       "      <th>4266</th>\n",
       "      <td>2021-07-30</td>\n",
       "      <td>2715.427002</td>\n",
       "      <td>2696.283936</td>\n",
       "      <td>2710.219971</td>\n",
       "      <td>2704.419922</td>\n",
       "      <td>1196600.0</td>\n",
       "      <td>2704.419922</td>\n",
       "    </tr>\n",
       "    <tr>\n",
       "      <th>4267</th>\n",
       "      <td>2021-08-02</td>\n",
       "      <td>2720.409912</td>\n",
       "      <td>2693.389893</td>\n",
       "      <td>2709.689941</td>\n",
       "      <td>2719.790039</td>\n",
       "      <td>1007000.0</td>\n",
       "      <td>2719.790039</td>\n",
       "    </tr>\n",
       "    <tr>\n",
       "      <th>4268</th>\n",
       "      <td>2021-08-03</td>\n",
       "      <td>2726.709961</td>\n",
       "      <td>2683.669922</td>\n",
       "      <td>2720.000000</td>\n",
       "      <td>2725.600098</td>\n",
       "      <td>953200.0</td>\n",
       "      <td>2725.600098</td>\n",
       "    </tr>\n",
       "    <tr>\n",
       "      <th>4269</th>\n",
       "      <td>2021-08-04</td>\n",
       "      <td>2730.760010</td>\n",
       "      <td>2708.300049</td>\n",
       "      <td>2724.989990</td>\n",
       "      <td>2720.570068</td>\n",
       "      <td>826400.0</td>\n",
       "      <td>2720.570068</td>\n",
       "    </tr>\n",
       "    <tr>\n",
       "      <th>4270</th>\n",
       "      <td>2021-08-05</td>\n",
       "      <td>2739.000000</td>\n",
       "      <td>2712.000000</td>\n",
       "      <td>2720.570068</td>\n",
       "      <td>2738.800049</td>\n",
       "      <td>593300.0</td>\n",
       "      <td>2738.800049</td>\n",
       "    </tr>\n",
       "    <tr>\n",
       "      <th>4271</th>\n",
       "      <td>2021-08-06</td>\n",
       "      <td>2741.601074</td>\n",
       "      <td>2720.929932</td>\n",
       "      <td>2725.899902</td>\n",
       "      <td>2740.719971</td>\n",
       "      <td>678000.0</td>\n",
       "      <td>2740.719971</td>\n",
       "    </tr>\n",
       "    <tr>\n",
       "      <th>4272</th>\n",
       "      <td>2021-08-09</td>\n",
       "      <td>2766.429932</td>\n",
       "      <td>2728.574951</td>\n",
       "      <td>2738.979980</td>\n",
       "      <td>2760.040039</td>\n",
       "      <td>618700.0</td>\n",
       "      <td>2760.040039</td>\n",
       "    </tr>\n",
       "    <tr>\n",
       "      <th>4273</th>\n",
       "      <td>2021-08-10</td>\n",
       "      <td>2771.030029</td>\n",
       "      <td>2744.530029</td>\n",
       "      <td>2761.590088</td>\n",
       "      <td>2761.929932</td>\n",
       "      <td>801700.0</td>\n",
       "      <td>2761.929932</td>\n",
       "    </tr>\n",
       "    <tr>\n",
       "      <th>4274</th>\n",
       "      <td>2021-08-11</td>\n",
       "      <td>2776.955078</td>\n",
       "      <td>2747.000000</td>\n",
       "      <td>2765.659912</td>\n",
       "      <td>2753.790039</td>\n",
       "      <td>760200.0</td>\n",
       "      <td>2753.790039</td>\n",
       "    </tr>\n",
       "    <tr>\n",
       "      <th>4275</th>\n",
       "      <td>2021-08-12</td>\n",
       "      <td>2768.360107</td>\n",
       "      <td>2735.580078</td>\n",
       "      <td>2754.260010</td>\n",
       "      <td>2767.790039</td>\n",
       "      <td>732300.0</td>\n",
       "      <td>2767.790039</td>\n",
       "    </tr>\n",
       "    <tr>\n",
       "      <th>4276</th>\n",
       "      <td>2021-08-13</td>\n",
       "      <td>2773.479980</td>\n",
       "      <td>2760.100098</td>\n",
       "      <td>2767.149902</td>\n",
       "      <td>2768.120117</td>\n",
       "      <td>628600.0</td>\n",
       "      <td>2768.120117</td>\n",
       "    </tr>\n",
       "    <tr>\n",
       "      <th>4277</th>\n",
       "      <td>2021-08-16</td>\n",
       "      <td>2779.810059</td>\n",
       "      <td>2723.314941</td>\n",
       "      <td>2760.000000</td>\n",
       "      <td>2778.320068</td>\n",
       "      <td>902000.0</td>\n",
       "      <td>2778.320068</td>\n",
       "    </tr>\n",
       "    <tr>\n",
       "      <th>4278</th>\n",
       "      <td>2021-08-17</td>\n",
       "      <td>2774.370117</td>\n",
       "      <td>2735.750000</td>\n",
       "      <td>2763.820068</td>\n",
       "      <td>2746.010010</td>\n",
       "      <td>1063600.0</td>\n",
       "      <td>2746.010010</td>\n",
       "    </tr>\n",
       "    <tr>\n",
       "      <th>4279</th>\n",
       "      <td>2021-08-18</td>\n",
       "      <td>2765.879883</td>\n",
       "      <td>2728.419922</td>\n",
       "      <td>2742.310059</td>\n",
       "      <td>2731.399902</td>\n",
       "      <td>746700.0</td>\n",
       "      <td>2731.399902</td>\n",
       "    </tr>\n",
       "    <tr>\n",
       "      <th>4280</th>\n",
       "      <td>2021-08-19</td>\n",
       "      <td>2749.040039</td>\n",
       "      <td>2707.120117</td>\n",
       "      <td>2709.350098</td>\n",
       "      <td>2738.270020</td>\n",
       "      <td>914800.0</td>\n",
       "      <td>2738.270020</td>\n",
       "    </tr>\n",
       "    <tr>\n",
       "      <th>4281</th>\n",
       "      <td>2021-08-20</td>\n",
       "      <td>2772.290039</td>\n",
       "      <td>2729.340088</td>\n",
       "      <td>2741.659912</td>\n",
       "      <td>2768.739990</td>\n",
       "      <td>778200.0</td>\n",
       "      <td>2768.739990</td>\n",
       "    </tr>\n",
       "    <tr>\n",
       "      <th>4282</th>\n",
       "      <td>2021-08-23</td>\n",
       "      <td>2843.540039</td>\n",
       "      <td>2774.958984</td>\n",
       "      <td>2779.969971</td>\n",
       "      <td>2821.989990</td>\n",
       "      <td>1054500.0</td>\n",
       "      <td>2821.989990</td>\n",
       "    </tr>\n",
       "    <tr>\n",
       "      <th>4283</th>\n",
       "      <td>2021-08-24</td>\n",
       "      <td>2860.149902</td>\n",
       "      <td>2827.070068</td>\n",
       "      <td>2830.870117</td>\n",
       "      <td>2847.969971</td>\n",
       "      <td>756300.0</td>\n",
       "      <td>2847.969971</td>\n",
       "    </tr>\n",
       "    <tr>\n",
       "      <th>4284</th>\n",
       "      <td>2021-08-25</td>\n",
       "      <td>2866.260010</td>\n",
       "      <td>2848.790039</td>\n",
       "      <td>2857.659912</td>\n",
       "      <td>2859.000000</td>\n",
       "      <td>641900.0</td>\n",
       "      <td>2859.000000</td>\n",
       "    </tr>\n",
       "    <tr>\n",
       "      <th>4285</th>\n",
       "      <td>2021-08-26</td>\n",
       "      <td>2862.696045</td>\n",
       "      <td>2841.830078</td>\n",
       "      <td>2852.370117</td>\n",
       "      <td>2842.459961</td>\n",
       "      <td>746100.0</td>\n",
       "      <td>2842.459961</td>\n",
       "    </tr>\n",
       "    <tr>\n",
       "      <th>4286</th>\n",
       "      <td>2021-08-27</td>\n",
       "      <td>2900.219971</td>\n",
       "      <td>2840.399902</td>\n",
       "      <td>2842.250000</td>\n",
       "      <td>2891.010010</td>\n",
       "      <td>1228100.0</td>\n",
       "      <td>2891.010010</td>\n",
       "    </tr>\n",
       "    <tr>\n",
       "      <th>4287</th>\n",
       "      <td>2021-08-30</td>\n",
       "      <td>2929.790039</td>\n",
       "      <td>2892.000000</td>\n",
       "      <td>2894.090088</td>\n",
       "      <td>2909.389893</td>\n",
       "      <td>845800.0</td>\n",
       "      <td>2909.389893</td>\n",
       "    </tr>\n",
       "    <tr>\n",
       "      <th>4288</th>\n",
       "      <td>2021-08-31</td>\n",
       "      <td>2922.239990</td>\n",
       "      <td>2900.000000</td>\n",
       "      <td>2917.689941</td>\n",
       "      <td>2909.239990</td>\n",
       "      <td>1337800.0</td>\n",
       "      <td>2909.239990</td>\n",
       "    </tr>\n",
       "    <tr>\n",
       "      <th>4289</th>\n",
       "      <td>2021-09-01</td>\n",
       "      <td>2936.409912</td>\n",
       "      <td>2912.290039</td>\n",
       "      <td>2913.000000</td>\n",
       "      <td>2916.840088</td>\n",
       "      <td>791200.0</td>\n",
       "      <td>2916.840088</td>\n",
       "    </tr>\n",
       "    <tr>\n",
       "      <th>4290</th>\n",
       "      <td>2021-09-02</td>\n",
       "      <td>2926.500000</td>\n",
       "      <td>2882.129883</td>\n",
       "      <td>2918.989990</td>\n",
       "      <td>2884.379883</td>\n",
       "      <td>1092200.0</td>\n",
       "      <td>2884.379883</td>\n",
       "    </tr>\n",
       "    <tr>\n",
       "      <th>4291</th>\n",
       "      <td>2021-09-03</td>\n",
       "      <td>2907.540039</td>\n",
       "      <td>2870.100098</td>\n",
       "      <td>2882.919922</td>\n",
       "      <td>2895.500000</td>\n",
       "      <td>955200.0</td>\n",
       "      <td>2895.500000</td>\n",
       "    </tr>\n",
       "    <tr>\n",
       "      <th>4292</th>\n",
       "      <td>2021-09-07</td>\n",
       "      <td>2916.479980</td>\n",
       "      <td>2890.820068</td>\n",
       "      <td>2894.989990</td>\n",
       "      <td>2910.379883</td>\n",
       "      <td>758500.0</td>\n",
       "      <td>2910.379883</td>\n",
       "    </tr>\n",
       "    <tr>\n",
       "      <th>4293</th>\n",
       "      <td>2021-09-08</td>\n",
       "      <td>2911.020020</td>\n",
       "      <td>2884.000000</td>\n",
       "      <td>2907.870117</td>\n",
       "      <td>2897.669922</td>\n",
       "      <td>774300.0</td>\n",
       "      <td>2897.669922</td>\n",
       "    </tr>\n",
       "    <tr>\n",
       "      <th>4294</th>\n",
       "      <td>2021-09-09</td>\n",
       "      <td>2913.389893</td>\n",
       "      <td>2888.679932</td>\n",
       "      <td>2897.669922</td>\n",
       "      <td>2898.270020</td>\n",
       "      <td>739900.0</td>\n",
       "      <td>2898.270020</td>\n",
       "    </tr>\n",
       "    <tr>\n",
       "      <th>4295</th>\n",
       "      <td>2021-09-10</td>\n",
       "      <td>2920.379883</td>\n",
       "      <td>2834.830078</td>\n",
       "      <td>2908.870117</td>\n",
       "      <td>2838.419922</td>\n",
       "      <td>1643500.0</td>\n",
       "      <td>2838.419922</td>\n",
       "    </tr>\n",
       "    <tr>\n",
       "      <th>4296</th>\n",
       "      <td>2021-09-13</td>\n",
       "      <td>2883.820068</td>\n",
       "      <td>2845.649902</td>\n",
       "      <td>2864.020020</td>\n",
       "      <td>2869.300049</td>\n",
       "      <td>1008800.0</td>\n",
       "      <td>2869.300049</td>\n",
       "    </tr>\n",
       "    <tr>\n",
       "      <th>4297</th>\n",
       "      <td>2021-09-14</td>\n",
       "      <td>2894.550049</td>\n",
       "      <td>2858.110107</td>\n",
       "      <td>2883.219971</td>\n",
       "      <td>2868.120117</td>\n",
       "      <td>945800.0</td>\n",
       "      <td>2868.120117</td>\n",
       "    </tr>\n",
       "    <tr>\n",
       "      <th>4298</th>\n",
       "      <td>2021-09-15</td>\n",
       "      <td>2911.629883</td>\n",
       "      <td>2845.120117</td>\n",
       "      <td>2875.179932</td>\n",
       "      <td>2904.120117</td>\n",
       "      <td>1032400.0</td>\n",
       "      <td>2904.120117</td>\n",
       "    </tr>\n",
       "    <tr>\n",
       "      <th>4299</th>\n",
       "      <td>2021-09-16</td>\n",
       "      <td>2904.000000</td>\n",
       "      <td>2868.326904</td>\n",
       "      <td>2902.419922</td>\n",
       "      <td>2887.469971</td>\n",
       "      <td>1014600.0</td>\n",
       "      <td>2887.469971</td>\n",
       "    </tr>\n",
       "    <tr>\n",
       "      <th>4300</th>\n",
       "      <td>2021-09-17</td>\n",
       "      <td>2884.989990</td>\n",
       "      <td>2821.229980</td>\n",
       "      <td>2875.969971</td>\n",
       "      <td>2829.270020</td>\n",
       "      <td>3002000.0</td>\n",
       "      <td>2829.270020</td>\n",
       "    </tr>\n",
       "    <tr>\n",
       "      <th>4301</th>\n",
       "      <td>2021-09-20</td>\n",
       "      <td>2787.250000</td>\n",
       "      <td>2741.060059</td>\n",
       "      <td>2780.003906</td>\n",
       "      <td>2780.340088</td>\n",
       "      <td>1745900.0</td>\n",
       "      <td>2780.340088</td>\n",
       "    </tr>\n",
       "    <tr>\n",
       "      <th>4302</th>\n",
       "      <td>2021-09-21</td>\n",
       "      <td>2816.231934</td>\n",
       "      <td>2778.110107</td>\n",
       "      <td>2802.340088</td>\n",
       "      <td>2792.929932</td>\n",
       "      <td>906500.0</td>\n",
       "      <td>2792.929932</td>\n",
       "    </tr>\n",
       "    <tr>\n",
       "      <th>4303</th>\n",
       "      <td>2021-09-22</td>\n",
       "      <td>2831.669922</td>\n",
       "      <td>2789.435059</td>\n",
       "      <td>2801.010010</td>\n",
       "      <td>2818.770020</td>\n",
       "      <td>1103400.0</td>\n",
       "      <td>2818.770020</td>\n",
       "    </tr>\n",
       "    <tr>\n",
       "      <th>4304</th>\n",
       "      <td>2021-09-23</td>\n",
       "      <td>2845.049072</td>\n",
       "      <td>2821.929932</td>\n",
       "      <td>2832.189941</td>\n",
       "      <td>2836.530029</td>\n",
       "      <td>863600.0</td>\n",
       "      <td>2836.530029</td>\n",
       "    </tr>\n",
       "    <tr>\n",
       "      <th>4305</th>\n",
       "      <td>2021-09-24</td>\n",
       "      <td>2858.070068</td>\n",
       "      <td>2817.010010</td>\n",
       "      <td>2818.919922</td>\n",
       "      <td>2852.659912</td>\n",
       "      <td>747500.0</td>\n",
       "      <td>2852.659912</td>\n",
       "    </tr>\n",
       "    <tr>\n",
       "      <th>4306</th>\n",
       "      <td>2021-09-27</td>\n",
       "      <td>2850.000000</td>\n",
       "      <td>2810.000000</td>\n",
       "      <td>2831.709961</td>\n",
       "      <td>2830.020020</td>\n",
       "      <td>942200.0</td>\n",
       "      <td>2830.020020</td>\n",
       "    </tr>\n",
       "    <tr>\n",
       "      <th>4307</th>\n",
       "      <td>2021-09-28</td>\n",
       "      <td>2792.129883</td>\n",
       "      <td>2714.000000</td>\n",
       "      <td>2781.770020</td>\n",
       "      <td>2723.679932</td>\n",
       "      <td>2109500.0</td>\n",
       "      <td>2723.679932</td>\n",
       "    </tr>\n",
       "    <tr>\n",
       "      <th>4308</th>\n",
       "      <td>2021-09-29</td>\n",
       "      <td>2747.969971</td>\n",
       "      <td>2685.000000</td>\n",
       "      <td>2742.194092</td>\n",
       "      <td>2690.419922</td>\n",
       "      <td>1316900.0</td>\n",
       "      <td>2690.419922</td>\n",
       "    </tr>\n",
       "    <tr>\n",
       "      <th>4309</th>\n",
       "      <td>2021-09-30</td>\n",
       "      <td>2711.800049</td>\n",
       "      <td>2660.000000</td>\n",
       "      <td>2686.500000</td>\n",
       "      <td>2665.310059</td>\n",
       "      <td>1764700.0</td>\n",
       "      <td>2665.310059</td>\n",
       "    </tr>\n",
       "    <tr>\n",
       "      <th>4310</th>\n",
       "      <td>2021-10-01</td>\n",
       "      <td>2741.419922</td>\n",
       "      <td>2667.550049</td>\n",
       "      <td>2671.090088</td>\n",
       "      <td>2729.250000</td>\n",
       "      <td>1419400.0</td>\n",
       "      <td>2729.250000</td>\n",
       "    </tr>\n",
       "    <tr>\n",
       "      <th>4311</th>\n",
       "      <td>2021-10-04</td>\n",
       "      <td>2714.000000</td>\n",
       "      <td>2623.330078</td>\n",
       "      <td>2713.989990</td>\n",
       "      <td>2675.300049</td>\n",
       "      <td>1576500.0</td>\n",
       "      <td>2675.300049</td>\n",
       "    </tr>\n",
       "    <tr>\n",
       "      <th>4312</th>\n",
       "      <td>2021-10-05</td>\n",
       "      <td>2747.239990</td>\n",
       "      <td>2680.000000</td>\n",
       "      <td>2680.000000</td>\n",
       "      <td>2723.540039</td>\n",
       "      <td>1206300.0</td>\n",
       "      <td>2723.540039</td>\n",
       "    </tr>\n",
       "    <tr>\n",
       "      <th>4313</th>\n",
       "      <td>2021-10-06</td>\n",
       "      <td>2757.040039</td>\n",
       "      <td>2689.729980</td>\n",
       "      <td>2692.510010</td>\n",
       "      <td>2747.080078</td>\n",
       "      <td>988200.0</td>\n",
       "      <td>2747.080078</td>\n",
       "    </tr>\n",
       "    <tr>\n",
       "      <th>4314</th>\n",
       "      <td>2021-10-07</td>\n",
       "      <td>2803.089111</td>\n",
       "      <td>2771.260010</td>\n",
       "      <td>2777.260010</td>\n",
       "      <td>2783.709961</td>\n",
       "      <td>912500.0</td>\n",
       "      <td>2783.709961</td>\n",
       "    </tr>\n",
       "    <tr>\n",
       "      <th>4315</th>\n",
       "      <td>2021-10-08</td>\n",
       "      <td>2806.340088</td>\n",
       "      <td>2788.586914</td>\n",
       "      <td>2798.120117</td>\n",
       "      <td>2801.120117</td>\n",
       "      <td>946200.0</td>\n",
       "      <td>2801.120117</td>\n",
       "    </tr>\n",
       "    <tr>\n",
       "      <th>4316</th>\n",
       "      <td>2021-10-11</td>\n",
       "      <td>2815.272949</td>\n",
       "      <td>2776.129883</td>\n",
       "      <td>2796.000000</td>\n",
       "      <td>2776.949951</td>\n",
       "      <td>828700.0</td>\n",
       "      <td>2776.949951</td>\n",
       "    </tr>\n",
       "  </tbody>\n",
       "</table>\n",
       "</div>"
      ],
      "text/plain": [
       "            Date         High          Low         Open        Close   \n",
       "4257  2021-07-19  2624.939941  2570.739990  2623.110107  2585.080078  \\\n",
       "4258  2021-07-20  2640.027100  2583.768066  2600.080078  2622.030029   \n",
       "4259  2021-07-21  2652.344971  2612.030029  2615.739990  2652.010010   \n",
       "4260  2021-07-22  2670.090088  2648.000000  2653.000000  2666.570068   \n",
       "4261  2021-07-23  2776.169922  2694.010010  2705.199951  2756.320068   \n",
       "4262  2021-07-26  2794.260010  2753.020020  2765.000000  2792.889893   \n",
       "4263  2021-07-27  2800.219971  2702.000000  2800.219971  2735.929932   \n",
       "4264  2021-07-28  2793.520020  2727.000000  2771.239990  2727.629883   \n",
       "4265  2021-07-29  2743.030029  2722.760010  2727.612061  2730.810059   \n",
       "4266  2021-07-30  2715.427002  2696.283936  2710.219971  2704.419922   \n",
       "4267  2021-08-02  2720.409912  2693.389893  2709.689941  2719.790039   \n",
       "4268  2021-08-03  2726.709961  2683.669922  2720.000000  2725.600098   \n",
       "4269  2021-08-04  2730.760010  2708.300049  2724.989990  2720.570068   \n",
       "4270  2021-08-05  2739.000000  2712.000000  2720.570068  2738.800049   \n",
       "4271  2021-08-06  2741.601074  2720.929932  2725.899902  2740.719971   \n",
       "4272  2021-08-09  2766.429932  2728.574951  2738.979980  2760.040039   \n",
       "4273  2021-08-10  2771.030029  2744.530029  2761.590088  2761.929932   \n",
       "4274  2021-08-11  2776.955078  2747.000000  2765.659912  2753.790039   \n",
       "4275  2021-08-12  2768.360107  2735.580078  2754.260010  2767.790039   \n",
       "4276  2021-08-13  2773.479980  2760.100098  2767.149902  2768.120117   \n",
       "4277  2021-08-16  2779.810059  2723.314941  2760.000000  2778.320068   \n",
       "4278  2021-08-17  2774.370117  2735.750000  2763.820068  2746.010010   \n",
       "4279  2021-08-18  2765.879883  2728.419922  2742.310059  2731.399902   \n",
       "4280  2021-08-19  2749.040039  2707.120117  2709.350098  2738.270020   \n",
       "4281  2021-08-20  2772.290039  2729.340088  2741.659912  2768.739990   \n",
       "4282  2021-08-23  2843.540039  2774.958984  2779.969971  2821.989990   \n",
       "4283  2021-08-24  2860.149902  2827.070068  2830.870117  2847.969971   \n",
       "4284  2021-08-25  2866.260010  2848.790039  2857.659912  2859.000000   \n",
       "4285  2021-08-26  2862.696045  2841.830078  2852.370117  2842.459961   \n",
       "4286  2021-08-27  2900.219971  2840.399902  2842.250000  2891.010010   \n",
       "4287  2021-08-30  2929.790039  2892.000000  2894.090088  2909.389893   \n",
       "4288  2021-08-31  2922.239990  2900.000000  2917.689941  2909.239990   \n",
       "4289  2021-09-01  2936.409912  2912.290039  2913.000000  2916.840088   \n",
       "4290  2021-09-02  2926.500000  2882.129883  2918.989990  2884.379883   \n",
       "4291  2021-09-03  2907.540039  2870.100098  2882.919922  2895.500000   \n",
       "4292  2021-09-07  2916.479980  2890.820068  2894.989990  2910.379883   \n",
       "4293  2021-09-08  2911.020020  2884.000000  2907.870117  2897.669922   \n",
       "4294  2021-09-09  2913.389893  2888.679932  2897.669922  2898.270020   \n",
       "4295  2021-09-10  2920.379883  2834.830078  2908.870117  2838.419922   \n",
       "4296  2021-09-13  2883.820068  2845.649902  2864.020020  2869.300049   \n",
       "4297  2021-09-14  2894.550049  2858.110107  2883.219971  2868.120117   \n",
       "4298  2021-09-15  2911.629883  2845.120117  2875.179932  2904.120117   \n",
       "4299  2021-09-16  2904.000000  2868.326904  2902.419922  2887.469971   \n",
       "4300  2021-09-17  2884.989990  2821.229980  2875.969971  2829.270020   \n",
       "4301  2021-09-20  2787.250000  2741.060059  2780.003906  2780.340088   \n",
       "4302  2021-09-21  2816.231934  2778.110107  2802.340088  2792.929932   \n",
       "4303  2021-09-22  2831.669922  2789.435059  2801.010010  2818.770020   \n",
       "4304  2021-09-23  2845.049072  2821.929932  2832.189941  2836.530029   \n",
       "4305  2021-09-24  2858.070068  2817.010010  2818.919922  2852.659912   \n",
       "4306  2021-09-27  2850.000000  2810.000000  2831.709961  2830.020020   \n",
       "4307  2021-09-28  2792.129883  2714.000000  2781.770020  2723.679932   \n",
       "4308  2021-09-29  2747.969971  2685.000000  2742.194092  2690.419922   \n",
       "4309  2021-09-30  2711.800049  2660.000000  2686.500000  2665.310059   \n",
       "4310  2021-10-01  2741.419922  2667.550049  2671.090088  2729.250000   \n",
       "4311  2021-10-04  2714.000000  2623.330078  2713.989990  2675.300049   \n",
       "4312  2021-10-05  2747.239990  2680.000000  2680.000000  2723.540039   \n",
       "4313  2021-10-06  2757.040039  2689.729980  2692.510010  2747.080078   \n",
       "4314  2021-10-07  2803.089111  2771.260010  2777.260010  2783.709961   \n",
       "4315  2021-10-08  2806.340088  2788.586914  2798.120117  2801.120117   \n",
       "4316  2021-10-11  2815.272949  2776.129883  2796.000000  2776.949951   \n",
       "\n",
       "         Volume    Adj Close  \n",
       "4257  1285500.0  2585.080078  \n",
       "4258   954200.0  2622.030029  \n",
       "4259   737100.0  2652.010010  \n",
       "4260   680400.0  2666.570068  \n",
       "4261  1318900.0  2756.320068  \n",
       "4262  1152600.0  2792.889893  \n",
       "4263  2108200.0  2735.929932  \n",
       "4264  2734400.0  2727.629883  \n",
       "4265   964200.0  2730.810059  \n",
       "4266  1196600.0  2704.419922  \n",
       "4267  1007000.0  2719.790039  \n",
       "4268   953200.0  2725.600098  \n",
       "4269   826400.0  2720.570068  \n",
       "4270   593300.0  2738.800049  \n",
       "4271   678000.0  2740.719971  \n",
       "4272   618700.0  2760.040039  \n",
       "4273   801700.0  2761.929932  \n",
       "4274   760200.0  2753.790039  \n",
       "4275   732300.0  2767.790039  \n",
       "4276   628600.0  2768.120117  \n",
       "4277   902000.0  2778.320068  \n",
       "4278  1063600.0  2746.010010  \n",
       "4279   746700.0  2731.399902  \n",
       "4280   914800.0  2738.270020  \n",
       "4281   778200.0  2768.739990  \n",
       "4282  1054500.0  2821.989990  \n",
       "4283   756300.0  2847.969971  \n",
       "4284   641900.0  2859.000000  \n",
       "4285   746100.0  2842.459961  \n",
       "4286  1228100.0  2891.010010  \n",
       "4287   845800.0  2909.389893  \n",
       "4288  1337800.0  2909.239990  \n",
       "4289   791200.0  2916.840088  \n",
       "4290  1092200.0  2884.379883  \n",
       "4291   955200.0  2895.500000  \n",
       "4292   758500.0  2910.379883  \n",
       "4293   774300.0  2897.669922  \n",
       "4294   739900.0  2898.270020  \n",
       "4295  1643500.0  2838.419922  \n",
       "4296  1008800.0  2869.300049  \n",
       "4297   945800.0  2868.120117  \n",
       "4298  1032400.0  2904.120117  \n",
       "4299  1014600.0  2887.469971  \n",
       "4300  3002000.0  2829.270020  \n",
       "4301  1745900.0  2780.340088  \n",
       "4302   906500.0  2792.929932  \n",
       "4303  1103400.0  2818.770020  \n",
       "4304   863600.0  2836.530029  \n",
       "4305   747500.0  2852.659912  \n",
       "4306   942200.0  2830.020020  \n",
       "4307  2109500.0  2723.679932  \n",
       "4308  1316900.0  2690.419922  \n",
       "4309  1764700.0  2665.310059  \n",
       "4310  1419400.0  2729.250000  \n",
       "4311  1576500.0  2675.300049  \n",
       "4312  1206300.0  2723.540039  \n",
       "4313   988200.0  2747.080078  \n",
       "4314   912500.0  2783.709961  \n",
       "4315   946200.0  2801.120117  \n",
       "4316   828700.0  2776.949951  "
      ]
     },
     "execution_count": 17,
     "metadata": {},
     "output_type": "execute_result"
    }
   ],
   "source": [
    "data_test.tail(60)"
   ]
  },
  {
   "cell_type": "code",
   "execution_count": null,
   "metadata": {
    "executionInfo": {
     "elapsed": 534,
     "status": "ok",
     "timestamp": 1684647504499,
     "user": {
      "displayName": "saee kulkarni",
      "userId": "13833151793041151926"
     },
     "user_tz": -330
    },
    "id": "GGw5hLAP4ohS"
   },
   "outputs": [],
   "source": [
    "past_60_days = data_test.tail(60)"
   ]
  },
  {
   "cell_type": "markdown",
   "metadata": {},
   "source": []
  },
  {
   "cell_type": "code",
   "execution_count": null,
   "metadata": {
    "colab": {
     "base_uri": "https://localhost:8080/",
     "height": 261
    },
    "executionInfo": {
     "elapsed": 5,
     "status": "ok",
     "timestamp": 1684647506279,
     "user": {
      "displayName": "saee kulkarni",
      "userId": "13833151793041151926"
     },
     "user_tz": -330
    },
    "id": "hGdszSYd4sRv",
    "outputId": "8170d8fa-081e-4bce-a24a-059d0808de02"
   },
   "outputs": [
    {
     "ename": "AttributeError",
     "evalue": "'DataFrame' object has no attribute 'append'",
     "output_type": "error",
     "traceback": [
      "\u001b[1;31m---------------------------------------------------------------------------\u001b[0m",
      "\u001b[1;31mAttributeError\u001b[0m                            Traceback (most recent call last)",
      "\u001b[1;32m~\\AppData\\Local\\Temp\\ipykernel_20276\\245460817.py\u001b[0m in \u001b[0;36m?\u001b[1;34m()\u001b[0m\n\u001b[1;32m----> 1\u001b[1;33m \u001b[0mdf\u001b[0m \u001b[1;33m=\u001b[0m \u001b[0mpast_60_days\u001b[0m\u001b[1;33m.\u001b[0m\u001b[0mappend\u001b[0m\u001b[1;33m(\u001b[0m\u001b[0mdata_test\u001b[0m\u001b[1;33m,\u001b[0m \u001b[0mignore_index\u001b[0m \u001b[1;33m=\u001b[0m \u001b[1;32mTrue\u001b[0m\u001b[1;33m)\u001b[0m\u001b[1;33m\u001b[0m\u001b[1;33m\u001b[0m\u001b[0m\n\u001b[0m\u001b[0;32m      2\u001b[0m \u001b[0mdf\u001b[0m \u001b[1;33m=\u001b[0m \u001b[0mdf\u001b[0m\u001b[1;33m.\u001b[0m\u001b[0mdrop\u001b[0m\u001b[1;33m(\u001b[0m\u001b[1;33m[\u001b[0m\u001b[1;34m'Date'\u001b[0m\u001b[1;33m,\u001b[0m \u001b[1;34m'Adj Close'\u001b[0m\u001b[1;33m]\u001b[0m\u001b[1;33m,\u001b[0m \u001b[0maxis\u001b[0m \u001b[1;33m=\u001b[0m \u001b[1;36m1\u001b[0m\u001b[1;33m)\u001b[0m\u001b[1;33m\u001b[0m\u001b[1;33m\u001b[0m\u001b[0m\n\u001b[0;32m      3\u001b[0m \u001b[0mdf\u001b[0m\u001b[1;33m.\u001b[0m\u001b[0mhead\u001b[0m\u001b[1;33m(\u001b[0m\u001b[1;33m)\u001b[0m\u001b[1;33m\u001b[0m\u001b[1;33m\u001b[0m\u001b[0m\n",
      "\u001b[1;32mc:\\Users\\ratho\\AppData\\Local\\Programs\\Python\\Python39\\lib\\site-packages\\pandas\\core\\generic.py\u001b[0m in \u001b[0;36m?\u001b[1;34m(self, name)\u001b[0m\n\u001b[0;32m   5985\u001b[0m             \u001b[1;32mand\u001b[0m \u001b[0mname\u001b[0m \u001b[1;32mnot\u001b[0m \u001b[1;32min\u001b[0m \u001b[0mself\u001b[0m\u001b[1;33m.\u001b[0m\u001b[0m_accessors\u001b[0m\u001b[1;33m\u001b[0m\u001b[1;33m\u001b[0m\u001b[0m\n\u001b[0;32m   5986\u001b[0m             \u001b[1;32mand\u001b[0m \u001b[0mself\u001b[0m\u001b[1;33m.\u001b[0m\u001b[0m_info_axis\u001b[0m\u001b[1;33m.\u001b[0m\u001b[0m_can_hold_identifiers_and_holds_name\u001b[0m\u001b[1;33m(\u001b[0m\u001b[0mname\u001b[0m\u001b[1;33m)\u001b[0m\u001b[1;33m\u001b[0m\u001b[1;33m\u001b[0m\u001b[0m\n\u001b[0;32m   5987\u001b[0m         ):\n\u001b[0;32m   5988\u001b[0m             \u001b[1;32mreturn\u001b[0m \u001b[0mself\u001b[0m\u001b[1;33m[\u001b[0m\u001b[0mname\u001b[0m\u001b[1;33m]\u001b[0m\u001b[1;33m\u001b[0m\u001b[1;33m\u001b[0m\u001b[0m\n\u001b[1;32m-> 5989\u001b[1;33m         \u001b[1;32mreturn\u001b[0m \u001b[0mobject\u001b[0m\u001b[1;33m.\u001b[0m\u001b[0m__getattribute__\u001b[0m\u001b[1;33m(\u001b[0m\u001b[0mself\u001b[0m\u001b[1;33m,\u001b[0m \u001b[0mname\u001b[0m\u001b[1;33m)\u001b[0m\u001b[1;33m\u001b[0m\u001b[1;33m\u001b[0m\u001b[0m\n\u001b[0m",
      "\u001b[1;31mAttributeError\u001b[0m: 'DataFrame' object has no attribute 'append'"
     ]
    }
   ],
   "source": [
    "df = past_60_days.append(data_test, ignore_index = True)\n",
    "df = df.drop(['Date', 'Adj Close'], axis = 1)\n",
    "df.head()"
   ]
  },
  {
   "cell_type": "code",
   "execution_count": null,
   "metadata": {
    "colab": {
     "base_uri": "https://localhost:8080/"
    },
    "executionInfo": {
     "elapsed": 2,
     "status": "ok",
     "timestamp": 1684647508044,
     "user": {
      "displayName": "saee kulkarni",
      "userId": "13833151793041151926"
     },
     "user_tz": -330
    },
    "id": "4a48myaG4vSu",
    "outputId": "46247864-a47c-4318-f60a-d42d580107e8"
   },
   "outputs": [],
   "source": [
    "inputs = scaler.transform(df)\n",
    "inputs"
   ]
  },
  {
   "cell_type": "code",
   "execution_count": null,
   "metadata": {
    "executionInfo": {
     "elapsed": 2,
     "status": "ok",
     "timestamp": 1684647509962,
     "user": {
      "displayName": "saee kulkarni",
      "userId": "13833151793041151926"
     },
     "user_tz": -330
    },
    "id": "nq6HLURP4yYD"
   },
   "outputs": [],
   "source": [
    "X_test = []\n",
    "y_test = []\n",
    "\n",
    "for i in range(60, inputs.shape[0]):\n",
    "    X_test.append(inputs[i-60:i])\n",
    "    y_test.append(inputs[i, 0])"
   ]
  },
  {
   "cell_type": "code",
   "execution_count": null,
   "metadata": {
    "colab": {
     "base_uri": "https://localhost:8080/"
    },
    "executionInfo": {
     "elapsed": 2,
     "status": "ok",
     "timestamp": 1684647511822,
     "user": {
      "displayName": "saee kulkarni",
      "userId": "13833151793041151926"
     },
     "user_tz": -330
    },
    "id": "Ulm4yPDP41qL",
    "outputId": "b7526f83-ae94-4e70-bd3b-7234bd8be98d"
   },
   "outputs": [],
   "source": [
    "X_test, y_test = np.array(X_test), np.array(y_test)\n",
    "X_test.shape, y_test.shape"
   ]
  },
  {
   "cell_type": "code",
   "execution_count": null,
   "metadata": {
    "colab": {
     "base_uri": "https://localhost:8080/"
    },
    "executionInfo": {
     "elapsed": 3249,
     "status": "ok",
     "timestamp": 1684647516919,
     "user": {
      "displayName": "saee kulkarni",
      "userId": "13833151793041151926"
     },
     "user_tz": -330
    },
    "id": "xxeNh8Ff44Hd",
    "outputId": "fdd924c1-9bb9-473d-c301-7e28f541664e"
   },
   "outputs": [],
   "source": [
    "y_pred = regressior.predict(X_test)"
   ]
  },
  {
   "cell_type": "code",
   "execution_count": null,
   "metadata": {
    "colab": {
     "base_uri": "https://localhost:8080/"
    },
    "executionInfo": {
     "elapsed": 3,
     "status": "ok",
     "timestamp": 1684647516919,
     "user": {
      "displayName": "saee kulkarni",
      "userId": "13833151793041151926"
     },
     "user_tz": -330
    },
    "id": "-0AFgEqz48n9",
    "outputId": "71f63ce9-e238-4c31-edcc-41d9fb51b0fe"
   },
   "outputs": [],
   "source": [
    "scaler.scale_"
   ]
  },
  {
   "cell_type": "code",
   "execution_count": null,
   "metadata": {
    "colab": {
     "base_uri": "https://localhost:8080/"
    },
    "executionInfo": {
     "elapsed": 2,
     "status": "ok",
     "timestamp": 1684647518263,
     "user": {
      "displayName": "saee kulkarni",
      "userId": "13833151793041151926"
     },
     "user_tz": -330
    },
    "id": "582nn6xz4_U3",
    "outputId": "9fc584b9-6785-4fb1-b966-ab8e0d25d002"
   },
   "outputs": [],
   "source": [
    "scale = 1/8.18605127e-04\n",
    "scale"
   ]
  },
  {
   "cell_type": "code",
   "execution_count": null,
   "metadata": {
    "executionInfo": {
     "elapsed": 1,
     "status": "ok",
     "timestamp": 1684647519471,
     "user": {
      "displayName": "saee kulkarni",
      "userId": "13833151793041151926"
     },
     "user_tz": -330
    },
    "id": "glU5FsJD5CGs"
   },
   "outputs": [],
   "source": [
    "y_pred = y_pred*scale\n",
    "y_test = y_test*scale"
   ]
  },
  {
   "cell_type": "code",
   "execution_count": null,
   "metadata": {
    "colab": {
     "base_uri": "https://localhost:8080/",
     "height": 434
    },
    "executionInfo": {
     "elapsed": 1691,
     "status": "ok",
     "timestamp": 1684647522405,
     "user": {
      "displayName": "saee kulkarni",
      "userId": "13833151793041151926"
     },
     "user_tz": -330
    },
    "id": "eVeQRm-C5FbK",
    "outputId": "6c4a2610-e848-4e51-e321-a5764093bb44"
   },
   "outputs": [],
   "source": [
    "plt.figure(figsize=(15,5))\n",
    "plt.plot(y_test, color = 'red', label = 'Real Google Stock Price')\n",
    "plt.plot(y_pred, color = 'blue', label = 'Predicted Google Stock Price')\n",
    "plt.title('Google Stock Price Prediction')\n",
    "plt.xlabel('Time')\n",
    "plt.ylabel('Google Stock Price')\n",
    "plt.legend()\n",
    "plt.show()\n"
   ]
  },
  {
   "cell_type": "code",
   "execution_count": null,
   "metadata": {},
   "outputs": [],
   "source": []
  }
 ],
 "metadata": {
  "colab": {
   "provenance": []
  },
  "kernelspec": {
   "display_name": "Python 3 (ipykernel)",
   "language": "python",
   "name": "python3"
  },
  "language_info": {
   "codemirror_mode": {
    "name": "ipython",
    "version": 3
   },
   "file_extension": ".py",
   "mimetype": "text/x-python",
   "name": "python",
   "nbconvert_exporter": "python",
   "pygments_lexer": "ipython3",
   "version": "3.10.9"
  }
 },
 "nbformat": 4,
 "nbformat_minor": 1
}
